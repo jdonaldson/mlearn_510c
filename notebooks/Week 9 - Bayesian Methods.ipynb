{
 "cells": [
  {
   "cell_type": "markdown",
   "id": "everyday-canvas",
   "metadata": {},
   "source": [
    "# Bayes with Sklearn"
   ]
  },
  {
   "cell_type": "code",
   "execution_count": 3,
   "id": "discrete-integer",
   "metadata": {},
   "outputs": [
    {
     "name": "stdout",
     "output_type": "stream",
     "text": [
      "Number of mislabeled points out of a total 75 points : 4\n"
     ]
    }
   ],
   "source": [
    "from sklearn.datasets import load_iris\n",
    "from sklearn.model_selection import train_test_split\n",
    "from sklearn.naive_bayes import GaussianNB\n",
    "X, y = load_iris(return_X_y=True)\n",
    "X_train, X_test, y_train, y_test = train_test_split(X, y, test_size=0.5, random_state=0)\n",
    "gnb = GaussianNB()\n",
    "y_pred = gnb.fit(X_train, y_train).predict(X_test)\n",
    "print(\"Number of mislabeled points out of a total %d points : %d\"\n",
    "      % (X_test.shape[0], (y_test != y_pred).sum()))"
   ]
  },
  {
   "cell_type": "code",
   "execution_count": 5,
   "id": "literary-rochester",
   "metadata": {},
   "outputs": [
    {
     "data": {
      "text/plain": [
       "{'priors': None,\n",
       " 'var_smoothing': 1e-09,\n",
       " 'n_features_in_': 4,\n",
       " 'epsilon_': 3.6399040000000003e-09,\n",
       " 'classes_': array([0, 1, 2]),\n",
       " 'theta_': array([[4.97586207, 3.35862069, 1.44827586, 0.23448276],\n",
       "        [5.935     , 2.71      , 4.185     , 1.3       ],\n",
       "        [6.77692308, 3.09230769, 5.73461538, 2.10769231]]),\n",
       " 'sigma_': array([[0.10321047, 0.13208086, 0.01629013, 0.00846612],\n",
       "        [0.256275  , 0.0829    , 0.255275  , 0.046     ],\n",
       "        [0.38869823, 0.10147929, 0.31303255, 0.04763314]]),\n",
       " 'class_count_': array([29., 20., 26.]),\n",
       " 'class_prior_': array([0.38666667, 0.26666667, 0.34666667])}"
      ]
     },
     "execution_count": 5,
     "metadata": {},
     "output_type": "execute_result"
    }
   ],
   "source": [
    "gnb.__dict__"
   ]
  },
  {
   "cell_type": "code",
   "execution_count": 12,
   "id": "soviet-belgium",
   "metadata": {},
   "outputs": [],
   "source": [
    "# theta is the mean of each feature per class\n",
    "# sigma is the variance of each feature per class"
   ]
  },
  {
   "cell_type": "code",
   "execution_count": null,
   "id": "prescription-double",
   "metadata": {},
   "outputs": [],
   "source": []
  }
 ],
 "metadata": {
  "kernelspec": {
   "display_name": "Python 3",
   "language": "python",
   "name": "python3"
  },
  "language_info": {
   "codemirror_mode": {
    "name": "ipython",
    "version": 3
   },
   "file_extension": ".py",
   "mimetype": "text/x-python",
   "name": "python",
   "nbconvert_exporter": "python",
   "pygments_lexer": "ipython3",
   "version": "3.8.8"
  }
 },
 "nbformat": 4,
 "nbformat_minor": 5
}
