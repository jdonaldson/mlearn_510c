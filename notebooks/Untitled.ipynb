{
 "cells": [
  {
   "cell_type": "code",
   "execution_count": 3,
   "id": "happy-entrance",
   "metadata": {},
   "outputs": [],
   "source": [
    "import pandas as pd\n",
    "ser = pd.Series(range(1,10))"
   ]
  },
  {
   "cell_type": "code",
   "execution_count": 14,
   "id": "fantastic-contest",
   "metadata": {},
   "outputs": [
    {
     "data": {
      "text/plain": [
       "7"
      ]
     },
     "execution_count": 14,
     "metadata": {},
     "output_type": "execute_result"
    }
   ],
   "source": [
    "(ser < 8).sum()"
   ]
  },
  {
   "cell_type": "code",
   "execution_count": 26,
   "id": "incident-gnome",
   "metadata": {},
   "outputs": [
    {
     "name": "stdout",
     "output_type": "stream",
     "text": [
      "0 3 3\n",
      "1 2 2\n",
      "2 1 1\n"
     ]
    }
   ],
   "source": [
    "l = [1,2,3]\n",
    "for i, el in enumerate(reversed(l)):\n",
    "    print(i, el, l[len(l) - i -1])\n",
    "    "
   ]
  },
  {
   "cell_type": "code",
   "execution_count": null,
   "id": "colonial-company",
   "metadata": {},
   "outputs": [],
   "source": []
  }
 ],
 "metadata": {
  "kernelspec": {
   "display_name": "Python 3",
   "language": "python",
   "name": "python3"
  },
  "language_info": {
   "codemirror_mode": {
    "name": "ipython",
    "version": 3
   },
   "file_extension": ".py",
   "mimetype": "text/x-python",
   "name": "python",
   "nbconvert_exporter": "python",
   "pygments_lexer": "ipython3",
   "version": "3.6.12"
  }
 },
 "nbformat": 4,
 "nbformat_minor": 5
}
