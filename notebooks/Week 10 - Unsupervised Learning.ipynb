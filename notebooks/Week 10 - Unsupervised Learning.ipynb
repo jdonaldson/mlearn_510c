{
 "cells": [
  {
   "cell_type": "markdown",
   "id": "isolated-partnership",
   "metadata": {},
   "source": [
    "# Unsupervised Learning"
   ]
  },
  {
   "cell_type": "code",
   "execution_count": 1,
   "id": "phantom-symphony",
   "metadata": {},
   "outputs": [],
   "source": [
    "%matplotlib widget"
   ]
  },
  {
   "cell_type": "markdown",
   "id": "rising-borough",
   "metadata": {},
   "source": [
    "Don't forget to install widgetsnbextension! : https://ipywidgets.readthedocs.io/en/latest/user_install.html"
   ]
  },
  {
   "cell_type": "code",
   "execution_count": 2,
   "id": "better-refrigerator",
   "metadata": {},
   "outputs": [],
   "source": [
    "from sklearn import manifold\n",
    "import numpy as np\n",
    "import pandas as pd\n",
    "import matplotlib.pyplot as plt"
   ]
  },
  {
   "cell_type": "markdown",
   "id": "announced-inside",
   "metadata": {},
   "source": [
    "## Dimensionality Reduction\n"
   ]
  },
  {
   "cell_type": "markdown",
   "id": "overall-fitting",
   "metadata": {},
   "source": [
    "Dimensionality reduction is an unsupervised learning technique that tries to reduce the dimensionality of a dataset while still preserving intrinsic properties of the dataset such as its total variance.  *Metric* Multidimensional Scaling is based on eigendecomposition methods, while \"Non-Metric\" Multidimensional Scaling is based on the various iterative methods of reducing some stress or error function."
   ]
  },
  {
   "cell_type": "markdown",
   "id": "experienced-disposal",
   "metadata": {},
   "source": [
    "Metric dimensionality reduction is one of the more abstract ML domains, and it can also suffer from scalability issues that limits its ability to handle large amounts of data.  However, it's one of the more powerful tools for understanding *relationships* amongst the data by transforming the raw data into intermediate forms, such as *metric distances*.\n",
    "\n",
    "Euclidean distance is a common approach for dimensionality reduction.  As an example, consider the following table of travel distances between cities in Colorado.  In the past, travel tables were really useful for travellers to understand how long certain routes would take.  However, it's actually possible to *recover the map* of cities from their distances alone."
   ]
  },
  {
   "cell_type": "markdown",
   "id": "primary-death",
   "metadata": {},
   "source": [
    "![colorado_map](https://www.colorado.com/sites/default/files/mileagetable.jpg)"
   ]
  },
  {
   "cell_type": "markdown",
   "id": "concerned-crowd",
   "metadata": {},
   "source": [
    "For our data, let's take a look at some distances between European cities."
   ]
  },
  {
   "cell_type": "code",
   "execution_count": 3,
   "id": "mobile-czech",
   "metadata": {},
   "outputs": [
    {
     "data": {
      "text/html": [
       "<div>\n",
       "<style scoped>\n",
       "    .dataframe tbody tr th:only-of-type {\n",
       "        vertical-align: middle;\n",
       "    }\n",
       "\n",
       "    .dataframe tbody tr th {\n",
       "        vertical-align: top;\n",
       "    }\n",
       "\n",
       "    .dataframe thead th {\n",
       "        text-align: right;\n",
       "    }\n",
       "</style>\n",
       "<table border=\"1\" class=\"dataframe\">\n",
       "  <thead>\n",
       "    <tr style=\"text-align: right;\">\n",
       "      <th></th>\n",
       "      <th>Athens</th>\n",
       "      <th>Barcelona</th>\n",
       "      <th>Brussels</th>\n",
       "      <th>Calais</th>\n",
       "      <th>Cherbourg</th>\n",
       "      <th>Cologne</th>\n",
       "      <th>Copenhagen</th>\n",
       "      <th>Geneva</th>\n",
       "      <th>Gibraltar</th>\n",
       "      <th>Hamburg</th>\n",
       "      <th>...</th>\n",
       "      <th>Lisbon</th>\n",
       "      <th>Lyons</th>\n",
       "      <th>Madrid</th>\n",
       "      <th>Marseilles</th>\n",
       "      <th>Milan</th>\n",
       "      <th>Munich</th>\n",
       "      <th>Paris</th>\n",
       "      <th>Rome</th>\n",
       "      <th>Stockholm</th>\n",
       "      <th>Vienna</th>\n",
       "    </tr>\n",
       "    <tr>\n",
       "      <th>city</th>\n",
       "      <th></th>\n",
       "      <th></th>\n",
       "      <th></th>\n",
       "      <th></th>\n",
       "      <th></th>\n",
       "      <th></th>\n",
       "      <th></th>\n",
       "      <th></th>\n",
       "      <th></th>\n",
       "      <th></th>\n",
       "      <th></th>\n",
       "      <th></th>\n",
       "      <th></th>\n",
       "      <th></th>\n",
       "      <th></th>\n",
       "      <th></th>\n",
       "      <th></th>\n",
       "      <th></th>\n",
       "      <th></th>\n",
       "      <th></th>\n",
       "      <th></th>\n",
       "    </tr>\n",
       "  </thead>\n",
       "  <tbody>\n",
       "    <tr>\n",
       "      <th>Athens</th>\n",
       "      <td>0</td>\n",
       "      <td>3313</td>\n",
       "      <td>2963</td>\n",
       "      <td>3175</td>\n",
       "      <td>3339</td>\n",
       "      <td>2762</td>\n",
       "      <td>3276</td>\n",
       "      <td>2610</td>\n",
       "      <td>4485</td>\n",
       "      <td>2977</td>\n",
       "      <td>...</td>\n",
       "      <td>4532</td>\n",
       "      <td>2753</td>\n",
       "      <td>3949</td>\n",
       "      <td>2865</td>\n",
       "      <td>2282</td>\n",
       "      <td>2179</td>\n",
       "      <td>3000</td>\n",
       "      <td>817</td>\n",
       "      <td>3927</td>\n",
       "      <td>1991</td>\n",
       "    </tr>\n",
       "    <tr>\n",
       "      <th>Barcelona</th>\n",
       "      <td>3313</td>\n",
       "      <td>0</td>\n",
       "      <td>1318</td>\n",
       "      <td>1326</td>\n",
       "      <td>1294</td>\n",
       "      <td>1498</td>\n",
       "      <td>2218</td>\n",
       "      <td>803</td>\n",
       "      <td>1172</td>\n",
       "      <td>2018</td>\n",
       "      <td>...</td>\n",
       "      <td>1305</td>\n",
       "      <td>645</td>\n",
       "      <td>636</td>\n",
       "      <td>521</td>\n",
       "      <td>1014</td>\n",
       "      <td>1365</td>\n",
       "      <td>1033</td>\n",
       "      <td>1460</td>\n",
       "      <td>2868</td>\n",
       "      <td>1802</td>\n",
       "    </tr>\n",
       "    <tr>\n",
       "      <th>Brussels</th>\n",
       "      <td>2963</td>\n",
       "      <td>1318</td>\n",
       "      <td>0</td>\n",
       "      <td>204</td>\n",
       "      <td>583</td>\n",
       "      <td>206</td>\n",
       "      <td>966</td>\n",
       "      <td>677</td>\n",
       "      <td>2256</td>\n",
       "      <td>597</td>\n",
       "      <td>...</td>\n",
       "      <td>2084</td>\n",
       "      <td>690</td>\n",
       "      <td>1558</td>\n",
       "      <td>1011</td>\n",
       "      <td>925</td>\n",
       "      <td>747</td>\n",
       "      <td>285</td>\n",
       "      <td>1511</td>\n",
       "      <td>1616</td>\n",
       "      <td>1175</td>\n",
       "    </tr>\n",
       "    <tr>\n",
       "      <th>Calais</th>\n",
       "      <td>3175</td>\n",
       "      <td>1326</td>\n",
       "      <td>204</td>\n",
       "      <td>0</td>\n",
       "      <td>460</td>\n",
       "      <td>409</td>\n",
       "      <td>1136</td>\n",
       "      <td>747</td>\n",
       "      <td>2224</td>\n",
       "      <td>714</td>\n",
       "      <td>...</td>\n",
       "      <td>2052</td>\n",
       "      <td>739</td>\n",
       "      <td>1550</td>\n",
       "      <td>1059</td>\n",
       "      <td>1077</td>\n",
       "      <td>977</td>\n",
       "      <td>280</td>\n",
       "      <td>1662</td>\n",
       "      <td>1786</td>\n",
       "      <td>1381</td>\n",
       "    </tr>\n",
       "    <tr>\n",
       "      <th>Cherbourg</th>\n",
       "      <td>3339</td>\n",
       "      <td>1294</td>\n",
       "      <td>583</td>\n",
       "      <td>460</td>\n",
       "      <td>0</td>\n",
       "      <td>785</td>\n",
       "      <td>1545</td>\n",
       "      <td>853</td>\n",
       "      <td>2047</td>\n",
       "      <td>1115</td>\n",
       "      <td>...</td>\n",
       "      <td>1827</td>\n",
       "      <td>789</td>\n",
       "      <td>1347</td>\n",
       "      <td>1101</td>\n",
       "      <td>1209</td>\n",
       "      <td>1160</td>\n",
       "      <td>340</td>\n",
       "      <td>1794</td>\n",
       "      <td>2196</td>\n",
       "      <td>1588</td>\n",
       "    </tr>\n",
       "    <tr>\n",
       "      <th>Cologne</th>\n",
       "      <td>2762</td>\n",
       "      <td>1498</td>\n",
       "      <td>206</td>\n",
       "      <td>409</td>\n",
       "      <td>785</td>\n",
       "      <td>0</td>\n",
       "      <td>760</td>\n",
       "      <td>1662</td>\n",
       "      <td>2436</td>\n",
       "      <td>460</td>\n",
       "      <td>...</td>\n",
       "      <td>2290</td>\n",
       "      <td>714</td>\n",
       "      <td>1764</td>\n",
       "      <td>1035</td>\n",
       "      <td>911</td>\n",
       "      <td>583</td>\n",
       "      <td>465</td>\n",
       "      <td>1497</td>\n",
       "      <td>1403</td>\n",
       "      <td>937</td>\n",
       "    </tr>\n",
       "    <tr>\n",
       "      <th>Copenhagen</th>\n",
       "      <td>3276</td>\n",
       "      <td>2218</td>\n",
       "      <td>966</td>\n",
       "      <td>1136</td>\n",
       "      <td>1545</td>\n",
       "      <td>760</td>\n",
       "      <td>0</td>\n",
       "      <td>1418</td>\n",
       "      <td>3196</td>\n",
       "      <td>460</td>\n",
       "      <td>...</td>\n",
       "      <td>2971</td>\n",
       "      <td>1458</td>\n",
       "      <td>2498</td>\n",
       "      <td>1778</td>\n",
       "      <td>1537</td>\n",
       "      <td>1104</td>\n",
       "      <td>1176</td>\n",
       "      <td>2050</td>\n",
       "      <td>650</td>\n",
       "      <td>1455</td>\n",
       "    </tr>\n",
       "    <tr>\n",
       "      <th>Geneva</th>\n",
       "      <td>2610</td>\n",
       "      <td>803</td>\n",
       "      <td>677</td>\n",
       "      <td>747</td>\n",
       "      <td>853</td>\n",
       "      <td>1662</td>\n",
       "      <td>1418</td>\n",
       "      <td>0</td>\n",
       "      <td>1975</td>\n",
       "      <td>1118</td>\n",
       "      <td>...</td>\n",
       "      <td>1936</td>\n",
       "      <td>158</td>\n",
       "      <td>1439</td>\n",
       "      <td>425</td>\n",
       "      <td>328</td>\n",
       "      <td>591</td>\n",
       "      <td>513</td>\n",
       "      <td>995</td>\n",
       "      <td>2068</td>\n",
       "      <td>1019</td>\n",
       "    </tr>\n",
       "    <tr>\n",
       "      <th>Gibraltar</th>\n",
       "      <td>4485</td>\n",
       "      <td>1172</td>\n",
       "      <td>2256</td>\n",
       "      <td>2224</td>\n",
       "      <td>2047</td>\n",
       "      <td>2436</td>\n",
       "      <td>3196</td>\n",
       "      <td>1975</td>\n",
       "      <td>0</td>\n",
       "      <td>2897</td>\n",
       "      <td>...</td>\n",
       "      <td>676</td>\n",
       "      <td>1817</td>\n",
       "      <td>698</td>\n",
       "      <td>1693</td>\n",
       "      <td>2185</td>\n",
       "      <td>2565</td>\n",
       "      <td>1971</td>\n",
       "      <td>2631</td>\n",
       "      <td>3886</td>\n",
       "      <td>2974</td>\n",
       "    </tr>\n",
       "    <tr>\n",
       "      <th>Hamburg</th>\n",
       "      <td>2977</td>\n",
       "      <td>2018</td>\n",
       "      <td>597</td>\n",
       "      <td>714</td>\n",
       "      <td>1115</td>\n",
       "      <td>460</td>\n",
       "      <td>460</td>\n",
       "      <td>1118</td>\n",
       "      <td>2897</td>\n",
       "      <td>0</td>\n",
       "      <td>...</td>\n",
       "      <td>2671</td>\n",
       "      <td>1159</td>\n",
       "      <td>2198</td>\n",
       "      <td>1479</td>\n",
       "      <td>1238</td>\n",
       "      <td>805</td>\n",
       "      <td>877</td>\n",
       "      <td>1751</td>\n",
       "      <td>949</td>\n",
       "      <td>1155</td>\n",
       "    </tr>\n",
       "    <tr>\n",
       "      <th>Hook of Holland</th>\n",
       "      <td>3030</td>\n",
       "      <td>1490</td>\n",
       "      <td>172</td>\n",
       "      <td>330</td>\n",
       "      <td>731</td>\n",
       "      <td>269</td>\n",
       "      <td>269</td>\n",
       "      <td>895</td>\n",
       "      <td>2428</td>\n",
       "      <td>550</td>\n",
       "      <td>...</td>\n",
       "      <td>2280</td>\n",
       "      <td>863</td>\n",
       "      <td>1730</td>\n",
       "      <td>1183</td>\n",
       "      <td>1098</td>\n",
       "      <td>851</td>\n",
       "      <td>457</td>\n",
       "      <td>1683</td>\n",
       "      <td>1500</td>\n",
       "      <td>1205</td>\n",
       "    </tr>\n",
       "    <tr>\n",
       "      <th>Lisbon</th>\n",
       "      <td>4532</td>\n",
       "      <td>1305</td>\n",
       "      <td>2084</td>\n",
       "      <td>2052</td>\n",
       "      <td>1827</td>\n",
       "      <td>2290</td>\n",
       "      <td>2971</td>\n",
       "      <td>1936</td>\n",
       "      <td>676</td>\n",
       "      <td>2671</td>\n",
       "      <td>...</td>\n",
       "      <td>0</td>\n",
       "      <td>1178</td>\n",
       "      <td>668</td>\n",
       "      <td>1762</td>\n",
       "      <td>2250</td>\n",
       "      <td>2507</td>\n",
       "      <td>1799</td>\n",
       "      <td>2700</td>\n",
       "      <td>3231</td>\n",
       "      <td>2937</td>\n",
       "    </tr>\n",
       "    <tr>\n",
       "      <th>Lyons</th>\n",
       "      <td>2753</td>\n",
       "      <td>645</td>\n",
       "      <td>690</td>\n",
       "      <td>739</td>\n",
       "      <td>789</td>\n",
       "      <td>714</td>\n",
       "      <td>1458</td>\n",
       "      <td>158</td>\n",
       "      <td>1817</td>\n",
       "      <td>1159</td>\n",
       "      <td>...</td>\n",
       "      <td>1178</td>\n",
       "      <td>0</td>\n",
       "      <td>1281</td>\n",
       "      <td>320</td>\n",
       "      <td>328</td>\n",
       "      <td>724</td>\n",
       "      <td>471</td>\n",
       "      <td>1048</td>\n",
       "      <td>2108</td>\n",
       "      <td>1157</td>\n",
       "    </tr>\n",
       "    <tr>\n",
       "      <th>Madrid</th>\n",
       "      <td>3949</td>\n",
       "      <td>636</td>\n",
       "      <td>1558</td>\n",
       "      <td>1550</td>\n",
       "      <td>1347</td>\n",
       "      <td>1764</td>\n",
       "      <td>2498</td>\n",
       "      <td>1439</td>\n",
       "      <td>698</td>\n",
       "      <td>2198</td>\n",
       "      <td>...</td>\n",
       "      <td>668</td>\n",
       "      <td>1281</td>\n",
       "      <td>0</td>\n",
       "      <td>1157</td>\n",
       "      <td>1724</td>\n",
       "      <td>2010</td>\n",
       "      <td>1273</td>\n",
       "      <td>2097</td>\n",
       "      <td>3188</td>\n",
       "      <td>2409</td>\n",
       "    </tr>\n",
       "    <tr>\n",
       "      <th>Marseilles</th>\n",
       "      <td>2865</td>\n",
       "      <td>521</td>\n",
       "      <td>1011</td>\n",
       "      <td>1059</td>\n",
       "      <td>1101</td>\n",
       "      <td>1035</td>\n",
       "      <td>1778</td>\n",
       "      <td>425</td>\n",
       "      <td>1693</td>\n",
       "      <td>1479</td>\n",
       "      <td>...</td>\n",
       "      <td>1762</td>\n",
       "      <td>320</td>\n",
       "      <td>1157</td>\n",
       "      <td>0</td>\n",
       "      <td>618</td>\n",
       "      <td>1109</td>\n",
       "      <td>792</td>\n",
       "      <td>1011</td>\n",
       "      <td>2428</td>\n",
       "      <td>1363</td>\n",
       "    </tr>\n",
       "    <tr>\n",
       "      <th>Milan</th>\n",
       "      <td>2282</td>\n",
       "      <td>1014</td>\n",
       "      <td>925</td>\n",
       "      <td>1077</td>\n",
       "      <td>1209</td>\n",
       "      <td>911</td>\n",
       "      <td>1537</td>\n",
       "      <td>328</td>\n",
       "      <td>2185</td>\n",
       "      <td>1238</td>\n",
       "      <td>...</td>\n",
       "      <td>2250</td>\n",
       "      <td>328</td>\n",
       "      <td>1724</td>\n",
       "      <td>618</td>\n",
       "      <td>0</td>\n",
       "      <td>331</td>\n",
       "      <td>856</td>\n",
       "      <td>586</td>\n",
       "      <td>2187</td>\n",
       "      <td>898</td>\n",
       "    </tr>\n",
       "    <tr>\n",
       "      <th>Munich</th>\n",
       "      <td>2179</td>\n",
       "      <td>1365</td>\n",
       "      <td>747</td>\n",
       "      <td>977</td>\n",
       "      <td>1160</td>\n",
       "      <td>583</td>\n",
       "      <td>1104</td>\n",
       "      <td>591</td>\n",
       "      <td>2565</td>\n",
       "      <td>805</td>\n",
       "      <td>...</td>\n",
       "      <td>2507</td>\n",
       "      <td>724</td>\n",
       "      <td>2010</td>\n",
       "      <td>1109</td>\n",
       "      <td>331</td>\n",
       "      <td>0</td>\n",
       "      <td>821</td>\n",
       "      <td>946</td>\n",
       "      <td>1754</td>\n",
       "      <td>428</td>\n",
       "    </tr>\n",
       "    <tr>\n",
       "      <th>Paris</th>\n",
       "      <td>3000</td>\n",
       "      <td>1033</td>\n",
       "      <td>285</td>\n",
       "      <td>280</td>\n",
       "      <td>340</td>\n",
       "      <td>465</td>\n",
       "      <td>1176</td>\n",
       "      <td>513</td>\n",
       "      <td>1971</td>\n",
       "      <td>877</td>\n",
       "      <td>...</td>\n",
       "      <td>1799</td>\n",
       "      <td>471</td>\n",
       "      <td>1273</td>\n",
       "      <td>792</td>\n",
       "      <td>856</td>\n",
       "      <td>821</td>\n",
       "      <td>0</td>\n",
       "      <td>1476</td>\n",
       "      <td>1827</td>\n",
       "      <td>1249</td>\n",
       "    </tr>\n",
       "    <tr>\n",
       "      <th>Rome</th>\n",
       "      <td>817</td>\n",
       "      <td>1460</td>\n",
       "      <td>1511</td>\n",
       "      <td>1662</td>\n",
       "      <td>1794</td>\n",
       "      <td>1497</td>\n",
       "      <td>2050</td>\n",
       "      <td>995</td>\n",
       "      <td>2631</td>\n",
       "      <td>1751</td>\n",
       "      <td>...</td>\n",
       "      <td>2700</td>\n",
       "      <td>1048</td>\n",
       "      <td>2097</td>\n",
       "      <td>1011</td>\n",
       "      <td>586</td>\n",
       "      <td>946</td>\n",
       "      <td>1476</td>\n",
       "      <td>0</td>\n",
       "      <td>2707</td>\n",
       "      <td>1209</td>\n",
       "    </tr>\n",
       "    <tr>\n",
       "      <th>Stockholm</th>\n",
       "      <td>3927</td>\n",
       "      <td>2868</td>\n",
       "      <td>1616</td>\n",
       "      <td>1786</td>\n",
       "      <td>2196</td>\n",
       "      <td>1403</td>\n",
       "      <td>650</td>\n",
       "      <td>2068</td>\n",
       "      <td>3886</td>\n",
       "      <td>949</td>\n",
       "      <td>...</td>\n",
       "      <td>3231</td>\n",
       "      <td>2108</td>\n",
       "      <td>3188</td>\n",
       "      <td>2428</td>\n",
       "      <td>2187</td>\n",
       "      <td>1754</td>\n",
       "      <td>1827</td>\n",
       "      <td>2707</td>\n",
       "      <td>0</td>\n",
       "      <td>2105</td>\n",
       "    </tr>\n",
       "    <tr>\n",
       "      <th>Vienna</th>\n",
       "      <td>1991</td>\n",
       "      <td>1802</td>\n",
       "      <td>1175</td>\n",
       "      <td>1381</td>\n",
       "      <td>1588</td>\n",
       "      <td>937</td>\n",
       "      <td>1455</td>\n",
       "      <td>1019</td>\n",
       "      <td>2974</td>\n",
       "      <td>1155</td>\n",
       "      <td>...</td>\n",
       "      <td>2937</td>\n",
       "      <td>1157</td>\n",
       "      <td>2409</td>\n",
       "      <td>1363</td>\n",
       "      <td>898</td>\n",
       "      <td>428</td>\n",
       "      <td>1249</td>\n",
       "      <td>1209</td>\n",
       "      <td>2105</td>\n",
       "      <td>0</td>\n",
       "    </tr>\n",
       "  </tbody>\n",
       "</table>\n",
       "<p>21 rows × 21 columns</p>\n",
       "</div>"
      ],
      "text/plain": [
       "                 Athens  Barcelona  Brussels  Calais  Cherbourg  Cologne  \\\n",
       "city                                                                       \n",
       "Athens                0       3313      2963    3175       3339     2762   \n",
       "Barcelona          3313          0      1318    1326       1294     1498   \n",
       "Brussels           2963       1318         0     204        583      206   \n",
       "Calais             3175       1326       204       0        460      409   \n",
       "Cherbourg          3339       1294       583     460          0      785   \n",
       "Cologne            2762       1498       206     409        785        0   \n",
       "Copenhagen         3276       2218       966    1136       1545      760   \n",
       "Geneva             2610        803       677     747        853     1662   \n",
       "Gibraltar          4485       1172      2256    2224       2047     2436   \n",
       "Hamburg            2977       2018       597     714       1115      460   \n",
       "Hook of Holland    3030       1490       172     330        731      269   \n",
       "Lisbon             4532       1305      2084    2052       1827     2290   \n",
       "Lyons              2753        645       690     739        789      714   \n",
       "Madrid             3949        636      1558    1550       1347     1764   \n",
       "Marseilles         2865        521      1011    1059       1101     1035   \n",
       "Milan              2282       1014       925    1077       1209      911   \n",
       "Munich             2179       1365       747     977       1160      583   \n",
       "Paris              3000       1033       285     280        340      465   \n",
       "Rome                817       1460      1511    1662       1794     1497   \n",
       "Stockholm          3927       2868      1616    1786       2196     1403   \n",
       "Vienna             1991       1802      1175    1381       1588      937   \n",
       "\n",
       "                 Copenhagen  Geneva  Gibraltar  Hamburg  ...  Lisbon  Lyons  \\\n",
       "city                                                     ...                  \n",
       "Athens                 3276    2610       4485     2977  ...    4532   2753   \n",
       "Barcelona              2218     803       1172     2018  ...    1305    645   \n",
       "Brussels                966     677       2256      597  ...    2084    690   \n",
       "Calais                 1136     747       2224      714  ...    2052    739   \n",
       "Cherbourg              1545     853       2047     1115  ...    1827    789   \n",
       "Cologne                 760    1662       2436      460  ...    2290    714   \n",
       "Copenhagen                0    1418       3196      460  ...    2971   1458   \n",
       "Geneva                 1418       0       1975     1118  ...    1936    158   \n",
       "Gibraltar              3196    1975          0     2897  ...     676   1817   \n",
       "Hamburg                 460    1118       2897        0  ...    2671   1159   \n",
       "Hook of Holland         269     895       2428      550  ...    2280    863   \n",
       "Lisbon                 2971    1936        676     2671  ...       0   1178   \n",
       "Lyons                  1458     158       1817     1159  ...    1178      0   \n",
       "Madrid                 2498    1439        698     2198  ...     668   1281   \n",
       "Marseilles             1778     425       1693     1479  ...    1762    320   \n",
       "Milan                  1537     328       2185     1238  ...    2250    328   \n",
       "Munich                 1104     591       2565      805  ...    2507    724   \n",
       "Paris                  1176     513       1971      877  ...    1799    471   \n",
       "Rome                   2050     995       2631     1751  ...    2700   1048   \n",
       "Stockholm               650    2068       3886      949  ...    3231   2108   \n",
       "Vienna                 1455    1019       2974     1155  ...    2937   1157   \n",
       "\n",
       "                 Madrid  Marseilles  Milan  Munich  Paris  Rome  Stockholm  \\\n",
       "city                                                                         \n",
       "Athens             3949        2865   2282    2179   3000   817       3927   \n",
       "Barcelona           636         521   1014    1365   1033  1460       2868   \n",
       "Brussels           1558        1011    925     747    285  1511       1616   \n",
       "Calais             1550        1059   1077     977    280  1662       1786   \n",
       "Cherbourg          1347        1101   1209    1160    340  1794       2196   \n",
       "Cologne            1764        1035    911     583    465  1497       1403   \n",
       "Copenhagen         2498        1778   1537    1104   1176  2050        650   \n",
       "Geneva             1439         425    328     591    513   995       2068   \n",
       "Gibraltar           698        1693   2185    2565   1971  2631       3886   \n",
       "Hamburg            2198        1479   1238     805    877  1751        949   \n",
       "Hook of Holland    1730        1183   1098     851    457  1683       1500   \n",
       "Lisbon              668        1762   2250    2507   1799  2700       3231   \n",
       "Lyons              1281         320    328     724    471  1048       2108   \n",
       "Madrid                0        1157   1724    2010   1273  2097       3188   \n",
       "Marseilles         1157           0    618    1109    792  1011       2428   \n",
       "Milan              1724         618      0     331    856   586       2187   \n",
       "Munich             2010        1109    331       0    821   946       1754   \n",
       "Paris              1273         792    856     821      0  1476       1827   \n",
       "Rome               2097        1011    586     946   1476     0       2707   \n",
       "Stockholm          3188        2428   2187    1754   1827  2707          0   \n",
       "Vienna             2409        1363    898     428   1249  1209       2105   \n",
       "\n",
       "                 Vienna  \n",
       "city                     \n",
       "Athens             1991  \n",
       "Barcelona          1802  \n",
       "Brussels           1175  \n",
       "Calais             1381  \n",
       "Cherbourg          1588  \n",
       "Cologne             937  \n",
       "Copenhagen         1455  \n",
       "Geneva             1019  \n",
       "Gibraltar          2974  \n",
       "Hamburg            1155  \n",
       "Hook of Holland    1205  \n",
       "Lisbon             2937  \n",
       "Lyons              1157  \n",
       "Madrid             2409  \n",
       "Marseilles         1363  \n",
       "Milan               898  \n",
       "Munich              428  \n",
       "Paris              1249  \n",
       "Rome               1209  \n",
       "Stockholm          2105  \n",
       "Vienna                0  \n",
       "\n",
       "[21 rows x 21 columns]"
      ]
     },
     "execution_count": 3,
     "metadata": {},
     "output_type": "execute_result"
    }
   ],
   "source": [
    "dat = pd.read_csv(\"../data/eurodist.csv\", index_col=0)\n",
    "dat"
   ]
  },
  {
   "cell_type": "markdown",
   "id": "closing-happiness",
   "metadata": {},
   "source": [
    "We can construct an MDS manifold using sklearn."
   ]
  },
  {
   "cell_type": "code",
   "execution_count": 4,
   "id": "impossible-cabinet",
   "metadata": {},
   "outputs": [],
   "source": [
    "seed = np.random.RandomState(seed=1000)\n",
    "\n",
    "args = {\n",
    "    \"n_components\" : 2, # scale to 2 dimensions\n",
    "    \"metric\" : True, # there's also non-metric MDS\n",
    "    \"max_iter\" : 10000,\n",
    "    \"eps\" : 1e-32, \n",
    "    \"random_state\" : seed,\n",
    "    \"dissimilarity\" : \"precomputed\", # start from a distance matrix in this case\n",
    "    \"n_jobs\" : 1\n",
    "}\n",
    "\n",
    "mds = manifold.MDS(**args)"
   ]
  },
  {
   "cell_type": "code",
   "execution_count": 5,
   "id": "fundamental-configuration",
   "metadata": {},
   "outputs": [
    {
     "data": {
      "text/plain": [
       "MDS(dissimilarity='precomputed', eps=1e-32, max_iter=10000, n_jobs=1,\n",
       "    random_state=RandomState(MT19937) at 0x7FD9E56C3D40)"
      ]
     },
     "execution_count": 5,
     "metadata": {},
     "output_type": "execute_result"
    }
   ],
   "source": [
    "embed = mds.fit(dat)\n",
    "embed"
   ]
  },
  {
   "cell_type": "markdown",
   "id": "numerical-prompt",
   "metadata": {},
   "source": [
    "The `embedding_` field contains the raw dimensionally scaled *embedding*.  Notice that it's 2 dimensions, which is the number of dimensions we gave as an argument above."
   ]
  },
  {
   "cell_type": "code",
   "execution_count": 6,
   "id": "raised-trinity",
   "metadata": {},
   "outputs": [
    {
     "data": {
      "text/plain": [
       "array([[ 2747.9787423 ,   226.04826465],\n",
       "       [ -124.13177848,  -981.61513635],\n",
       "       [ -244.04435401,   329.51798197],\n",
       "       [ -432.43047384,   269.50526281],\n",
       "       [ -672.54643181,     3.63937828],\n",
       "       [ -126.64402609,   547.95605884],\n",
       "       [ -275.92632009,  1240.50043075],\n",
       "       [  204.1339799 ,  -238.0854147 ],\n",
       "       [ -903.42817208, -1879.51128614],\n",
       "       [ -117.81916684,   935.00691509],\n",
       "       [ -312.49655539,   545.84126945],\n",
       "       [-1318.29757712, -1429.20673578],\n",
       "       [   15.59456704,  -273.73918688],\n",
       "       [ -769.83377725, -1209.06179033],\n",
       "       [  144.99291038,  -565.65949826],\n",
       "       [  505.85420874,  -127.25605239],\n",
       "       [  473.9867088 ,   341.04850917],\n",
       "       [ -288.6531719 ,    53.2685059 ],\n",
       "       [ 1195.62576271,  -251.72943002],\n",
       "       [ -569.57359293,  1885.92209715],\n",
       "       [  867.65851797,   577.60985679]])"
      ]
     },
     "execution_count": 6,
     "metadata": {},
     "output_type": "execute_result"
    }
   ],
   "source": [
    "embed.embedding_"
   ]
  },
  {
   "cell_type": "markdown",
   "id": "meaning-running",
   "metadata": {},
   "source": [
    "We can also get a measure of the *stress* of the embedding.  This is the total amount of original distance that was lost in this reduction.  There's no hard rule on what's an appropriate amount of stress... with dimensionality reduction you're typically just trying to fit as much variance/distance in a few dimensions (usually no more than 3)."
   ]
  },
  {
   "cell_type": "code",
   "execution_count": 7,
   "id": "choice-cutting",
   "metadata": {},
   "outputs": [
    {
     "data": {
      "text/plain": [
       "3356497.365752386"
      ]
     },
     "execution_count": 7,
     "metadata": {},
     "output_type": "execute_result"
    }
   ],
   "source": [
    "embed.stress_"
   ]
  },
  {
   "cell_type": "markdown",
   "id": "horizontal-upset",
   "metadata": {},
   "source": [
    "It's a bit annoying, but sklearn returns the result of the embedding as an array of rows, and we need an array of columns for plotting.  So, just grab the transpose."
   ]
  },
  {
   "cell_type": "code",
   "execution_count": 8,
   "id": "referenced-calendar",
   "metadata": {},
   "outputs": [
    {
     "data": {
      "text/plain": [
       "array([[ 2747.9787423 ,  -124.13177848,  -244.04435401,  -432.43047384,\n",
       "         -672.54643181,  -126.64402609,  -275.92632009,   204.1339799 ,\n",
       "         -903.42817208,  -117.81916684,  -312.49655539, -1318.29757712,\n",
       "           15.59456704,  -769.83377725,   144.99291038,   505.85420874,\n",
       "          473.9867088 ,  -288.6531719 ,  1195.62576271,  -569.57359293,\n",
       "          867.65851797],\n",
       "       [  226.04826465,  -981.61513635,   329.51798197,   269.50526281,\n",
       "            3.63937828,   547.95605884,  1240.50043075,  -238.0854147 ,\n",
       "        -1879.51128614,   935.00691509,   545.84126945, -1429.20673578,\n",
       "         -273.73918688, -1209.06179033,  -565.65949826,  -127.25605239,\n",
       "          341.04850917,    53.2685059 ,  -251.72943002,  1885.92209715,\n",
       "          577.60985679]])"
      ]
     },
     "execution_count": 8,
     "metadata": {},
     "output_type": "execute_result"
    }
   ],
   "source": [
    "embedT = embed.embedding_.T\n",
    "embedT"
   ]
  },
  {
   "cell_type": "markdown",
   "id": "happy-johnston",
   "metadata": {},
   "source": [
    "I think it's easier to work with embeddings if we convert them back into dataframes."
   ]
  },
  {
   "cell_type": "code",
   "execution_count": 10,
   "id": "consistent-specification",
   "metadata": {},
   "outputs": [
    {
     "data": {
      "text/html": [
       "<div>\n",
       "<style scoped>\n",
       "    .dataframe tbody tr th:only-of-type {\n",
       "        vertical-align: middle;\n",
       "    }\n",
       "\n",
       "    .dataframe tbody tr th {\n",
       "        vertical-align: top;\n",
       "    }\n",
       "\n",
       "    .dataframe thead th {\n",
       "        text-align: right;\n",
       "    }\n",
       "</style>\n",
       "<table border=\"1\" class=\"dataframe\">\n",
       "  <thead>\n",
       "    <tr style=\"text-align: right;\">\n",
       "      <th></th>\n",
       "      <th>0</th>\n",
       "      <th>1</th>\n",
       "    </tr>\n",
       "  </thead>\n",
       "  <tbody>\n",
       "    <tr>\n",
       "      <th>0</th>\n",
       "      <td>2747.978742</td>\n",
       "      <td>226.048265</td>\n",
       "    </tr>\n",
       "    <tr>\n",
       "      <th>1</th>\n",
       "      <td>-124.131778</td>\n",
       "      <td>-981.615136</td>\n",
       "    </tr>\n",
       "    <tr>\n",
       "      <th>2</th>\n",
       "      <td>-244.044354</td>\n",
       "      <td>329.517982</td>\n",
       "    </tr>\n",
       "    <tr>\n",
       "      <th>3</th>\n",
       "      <td>-432.430474</td>\n",
       "      <td>269.505263</td>\n",
       "    </tr>\n",
       "    <tr>\n",
       "      <th>4</th>\n",
       "      <td>-672.546432</td>\n",
       "      <td>3.639378</td>\n",
       "    </tr>\n",
       "    <tr>\n",
       "      <th>5</th>\n",
       "      <td>-126.644026</td>\n",
       "      <td>547.956059</td>\n",
       "    </tr>\n",
       "    <tr>\n",
       "      <th>6</th>\n",
       "      <td>-275.926320</td>\n",
       "      <td>1240.500431</td>\n",
       "    </tr>\n",
       "    <tr>\n",
       "      <th>7</th>\n",
       "      <td>204.133980</td>\n",
       "      <td>-238.085415</td>\n",
       "    </tr>\n",
       "    <tr>\n",
       "      <th>8</th>\n",
       "      <td>-903.428172</td>\n",
       "      <td>-1879.511286</td>\n",
       "    </tr>\n",
       "    <tr>\n",
       "      <th>9</th>\n",
       "      <td>-117.819167</td>\n",
       "      <td>935.006915</td>\n",
       "    </tr>\n",
       "    <tr>\n",
       "      <th>10</th>\n",
       "      <td>-312.496555</td>\n",
       "      <td>545.841269</td>\n",
       "    </tr>\n",
       "    <tr>\n",
       "      <th>11</th>\n",
       "      <td>-1318.297577</td>\n",
       "      <td>-1429.206736</td>\n",
       "    </tr>\n",
       "    <tr>\n",
       "      <th>12</th>\n",
       "      <td>15.594567</td>\n",
       "      <td>-273.739187</td>\n",
       "    </tr>\n",
       "    <tr>\n",
       "      <th>13</th>\n",
       "      <td>-769.833777</td>\n",
       "      <td>-1209.061790</td>\n",
       "    </tr>\n",
       "    <tr>\n",
       "      <th>14</th>\n",
       "      <td>144.992910</td>\n",
       "      <td>-565.659498</td>\n",
       "    </tr>\n",
       "    <tr>\n",
       "      <th>15</th>\n",
       "      <td>505.854209</td>\n",
       "      <td>-127.256052</td>\n",
       "    </tr>\n",
       "    <tr>\n",
       "      <th>16</th>\n",
       "      <td>473.986709</td>\n",
       "      <td>341.048509</td>\n",
       "    </tr>\n",
       "    <tr>\n",
       "      <th>17</th>\n",
       "      <td>-288.653172</td>\n",
       "      <td>53.268506</td>\n",
       "    </tr>\n",
       "    <tr>\n",
       "      <th>18</th>\n",
       "      <td>1195.625763</td>\n",
       "      <td>-251.729430</td>\n",
       "    </tr>\n",
       "    <tr>\n",
       "      <th>19</th>\n",
       "      <td>-569.573593</td>\n",
       "      <td>1885.922097</td>\n",
       "    </tr>\n",
       "    <tr>\n",
       "      <th>20</th>\n",
       "      <td>867.658518</td>\n",
       "      <td>577.609857</td>\n",
       "    </tr>\n",
       "  </tbody>\n",
       "</table>\n",
       "</div>"
      ],
      "text/plain": [
       "              0            1\n",
       "0   2747.978742   226.048265\n",
       "1   -124.131778  -981.615136\n",
       "2   -244.044354   329.517982\n",
       "3   -432.430474   269.505263\n",
       "4   -672.546432     3.639378\n",
       "5   -126.644026   547.956059\n",
       "6   -275.926320  1240.500431\n",
       "7    204.133980  -238.085415\n",
       "8   -903.428172 -1879.511286\n",
       "9   -117.819167   935.006915\n",
       "10  -312.496555   545.841269\n",
       "11 -1318.297577 -1429.206736\n",
       "12    15.594567  -273.739187\n",
       "13  -769.833777 -1209.061790\n",
       "14   144.992910  -565.659498\n",
       "15   505.854209  -127.256052\n",
       "16   473.986709   341.048509\n",
       "17  -288.653172    53.268506\n",
       "18  1195.625763  -251.729430\n",
       "19  -569.573593  1885.922097\n",
       "20   867.658518   577.609857"
      ]
     },
     "execution_count": 10,
     "metadata": {},
     "output_type": "execute_result"
    }
   ],
   "source": [
    "edf = pd.DataFrame(embed.embedding_)\n",
    "edf"
   ]
  },
  {
   "cell_type": "markdown",
   "id": "friendly-roberts",
   "metadata": {},
   "source": [
    "We can create a scatterplot, but we also need to label the points with the original labels they were associated with.  Matplotlib doesn't have great mechanisms for labelling text, we need to loop through the text annotations and mark them manually."
   ]
  },
  {
   "cell_type": "code",
   "execution_count": 11,
   "id": "transparent-priest",
   "metadata": {},
   "outputs": [
    {
     "data": {
      "application/vnd.jupyter.widget-view+json": {
       "model_id": "c8ea3558a08245bca47edcca1c6d211b",
       "version_major": 2,
       "version_minor": 0
      },
      "text/plain": [
       "Canvas(toolbar=Toolbar(toolitems=[('Home', 'Reset original view', 'home', 'home'), ('Back', 'Back to previous …"
      ]
     },
     "metadata": {},
     "output_type": "display_data"
    }
   ],
   "source": [
    "edf.plot.scatter(x=0,y=1)\n",
    "annotations=dat.columns\n",
    "for i, label in enumerate(annotations):\n",
    "    plt.annotate(label, (edf[0][i], edf[1][i]))"
   ]
  },
  {
   "cell_type": "markdown",
   "id": "according-comfort",
   "metadata": {},
   "source": [
    "Recognize anything yet?  Here's a map of Europe for reference.  Is this embedding we created any good?"
   ]
  },
  {
   "cell_type": "markdown",
   "id": "vertical-turtle",
   "metadata": {},
   "source": [
    "![image](https://external-content.duckduckgo.com/iu/?u=https%3A%2F%2Fm0.joe.co.uk%2Fwp-content%2Fuploads%2F2018%2F08%2F20221042%2Feurope-political-map-miller-large.jpg&f=1&nofb=1)"
   ]
  },
  {
   "cell_type": "markdown",
   "id": "breeding-correlation",
   "metadata": {},
   "source": [
    "Keep in mind that embeddings are *invariant against rotations and transpositions*.  This means we can use any of these transforms and the embedding is still valid.  Think about it, the Earth has no *intrinsic* axis.  We just pick an orientation and stick with it.  However, MDS doesn't have this common sense grounding, so it just picks the first orientation it comes across."
   ]
  },
  {
   "cell_type": "code",
   "execution_count": 20,
   "id": "serious-console",
   "metadata": {},
   "outputs": [
    {
     "data": {
      "application/vnd.jupyter.widget-view+json": {
       "model_id": "69e9ec0eaf98476e8d69cabb57cf7065",
       "version_major": 2,
       "version_minor": 0
      },
      "text/plain": [
       "Canvas(toolbar=Toolbar(toolitems=[('Home', 'Reset original view', 'home', 'home'), ('Back', 'Back to previous …"
      ]
     },
     "metadata": {},
     "output_type": "display_data"
    }
   ],
   "source": [
    "edf[0] *= -1\n",
    "edf.plot.scatter(x=1,y=0)\n",
    "annotations=dat.columns\n",
    "for i, label in enumerate(annotations):\n",
    "    plt.annotate(label, (edf[1][i], edf[0][i]))"
   ]
  },
  {
   "cell_type": "markdown",
   "id": "derived-terrorism",
   "metadata": {},
   "source": [
    "![overlay](overlay.png)"
   ]
  },
  {
   "cell_type": "markdown",
   "id": "requested-bargain",
   "metadata": {},
   "source": [
    "We can also use PCA for representing distances as *variance*, which covers more abstract statistical relationships that occur between observations."
   ]
  },
  {
   "cell_type": "code",
   "execution_count": 15,
   "id": "smart-visitor",
   "metadata": {},
   "outputs": [
    {
     "data": {
      "text/plain": [
       "(4, 150)"
      ]
     },
     "execution_count": 15,
     "metadata": {},
     "output_type": "execute_result"
    }
   ],
   "source": [
    "from sklearn import decomposition\n",
    "iris = pd.read_csv(\"../data/iris.csv\")\n",
    "pca = decomposition.PCA(n_components=4)\n",
    "iris_dat = iris.drop(\"Name\",axis=1)\n",
    "pca.fit(iris_dat)\n",
    "iris_dat_pca = pca.transform(iris_dat)\n",
    "points=iris_dat_pca.T\n",
    "points.shape"
   ]
  },
  {
   "cell_type": "markdown",
   "id": "marked-emperor",
   "metadata": {},
   "source": [
    "Now we see the payoff from using widgets!  We can embed a simple 3d plot to see the 4d to 3d embedding and explore the new representation of our data."
   ]
  },
  {
   "cell_type": "code",
   "execution_count": 16,
   "id": "challenging-master",
   "metadata": {
    "scrolled": false
   },
   "outputs": [
    {
     "data": {
      "application/vnd.jupyter.widget-view+json": {
       "model_id": "17043af7b6544bceb4726636b124c2cb",
       "version_major": 2,
       "version_minor": 0
      },
      "text/plain": [
       "Canvas(toolbar=Toolbar(toolitems=[('Home', 'Reset original view', 'home', 'home'), ('Back', 'Back to previous …"
      ]
     },
     "metadata": {},
     "output_type": "display_data"
    },
    {
     "data": {
      "text/plain": [
       "<matplotlib.legend.Legend at 0x7fd9e96e47f0>"
      ]
     },
     "execution_count": 16,
     "metadata": {},
     "output_type": "execute_result"
    }
   ],
   "source": [
    "import mpl_toolkits.mplot3d.axes3d as p3\n",
    "import pylab as p\n",
    "from matplotlib import cm\n",
    "\n",
    "\n",
    "fig = p.figure()\n",
    "ax = p3.Axes3D(fig)\n",
    "\n",
    "cmap = cm.get_cmap('Spectral') # Colour map (there are many others)\n",
    "for i, name in enumerate(iris[\"Name\"].unique()):\n",
    "    idx = iris[\"Name\"] == name\n",
    "    ax.scatter(points[0][idx], points[1][idx], points[2][idx], cmap=cmap, label=name)\n",
    "ax.legend()\n"
   ]
  },
  {
   "cell_type": "markdown",
   "id": "brave-minister",
   "metadata": {},
   "source": [
    "## Issues Encountered in High Dimensional Settings Principal Component Analysis (PCA) "
   ]
  },
  {
   "cell_type": "markdown",
   "id": "enclosed-scope",
   "metadata": {},
   "source": [
    "When working with PCA plots, it's always a good idea to look at \"scree\" plots to show how much variance you are throwing away at a given dimensionality.  For instance, most of the variance here in the Iris data is in a single principle component.  It's greater than the rest of the components combined.  \n",
    "\n",
    "Getting rid of lower magnitude components is often a good idea in general.  The lower magnitude components are often *noise*, and it can be very helpful to remove them from the data.  PCA is a powerful tool for separating the signal and noise in your dataset.  It is well worth your time to get familiar with it."
   ]
  },
  {
   "cell_type": "code",
   "execution_count": 17,
   "id": "streaming-disorder",
   "metadata": {},
   "outputs": [
    {
     "data": {
      "application/vnd.jupyter.widget-view+json": {
       "model_id": "b3143a7517684f4a9954bbcee7254823",
       "version_major": 2,
       "version_minor": 0
      },
      "text/plain": [
       "Canvas(toolbar=Toolbar(toolitems=[('Home', 'Reset original view', 'home', 'home'), ('Back', 'Back to previous …"
      ]
     },
     "metadata": {},
     "output_type": "display_data"
    },
    {
     "data": {
      "text/plain": [
       "<AxesSubplot:>"
      ]
     },
     "execution_count": 17,
     "metadata": {},
     "output_type": "execute_result"
    }
   ],
   "source": [
    "pd.DataFrame(pca.singular_values_, index=['pc1', 'pc2', 'pc3', 'pc4']).plot.bar()"
   ]
  },
  {
   "cell_type": "markdown",
   "id": "color-onion",
   "metadata": {},
   "source": [
    "## t-Distributed Stochastic Neighbor Embedding (t-SNE)"
   ]
  },
  {
   "cell_type": "markdown",
   "id": "loved-commons",
   "metadata": {},
   "source": [
    "The t-SNE embedding combines certain attributes of metric and non-metric dimensionality reduction, and can be very powerful for finding natural clustering that is occuring in the data, regardless of scale or variance amongst the data.\n",
    "\n",
    "I'm such a fan of t-SNE, I wrote the implementation in R several years ago : https://cran.r-project.org/web/packages/tsne/index.html\n",
    "\n",
    "We can see how poweful t-SNE is by having it visualize the mnist hand written digit dataset.  Keep in mind we are *not* using supervised learning here.  t-SNE discovers the relationship amongst the digits automatically, without even asking for it!"
   ]
  },
  {
   "cell_type": "code",
   "execution_count": 18,
   "id": "falling-dance",
   "metadata": {},
   "outputs": [],
   "source": [
    "from sklearn import datasets\n",
    "digits = datasets.load_digits(n_class=6)\n",
    "data = digits.data\n",
    "y = digits.target"
   ]
  },
  {
   "cell_type": "code",
   "execution_count": 19,
   "id": "above-practitioner",
   "metadata": {},
   "outputs": [
    {
     "name": "stdout",
     "output_type": "stream",
     "text": [
      "Computing t-SNE embedding\n"
     ]
    },
    {
     "data": {
      "application/vnd.jupyter.widget-view+json": {
       "model_id": "c2fa6463decf4e89875fe4b530c28dbd",
       "version_major": 2,
       "version_minor": 0
      },
      "text/plain": [
       "Canvas(toolbar=Toolbar(toolitems=[('Home', 'Reset original view', 'home', 'home'), ('Back', 'Back to previous …"
      ]
     },
     "metadata": {},
     "output_type": "display_data"
    },
    {
     "data": {
      "text/plain": [
       "Text(0.5, 1.0, 't-SNE embedding')"
      ]
     },
     "execution_count": 19,
     "metadata": {},
     "output_type": "execute_result"
    }
   ],
   "source": [
    "print(\"Computing t-SNE embedding\")\n",
    "tsne = manifold.TSNE(n_components=2, init='pca', random_state=0)\n",
    "from matplotlib import offsetbox\n",
    "X = tsne.fit_transform(digits.data)\n",
    "\n",
    "x_min, x_max = np.min(X, 0), np.max(X, 0)\n",
    "X = (X - x_min) / (x_max - x_min)\n",
    "\n",
    "plt.figure()\n",
    "ax = plt.subplot(111)\n",
    "for i in range(X.shape[0]):\n",
    "    plt.text(X[i, 0], X[i, 1], str(digits.target[i]),\n",
    "             color=plt.cm.Set1(digits.target[i] / 10.),\n",
    "             fontdict={'weight': 'bold', 'size': 9})\n",
    "\n",
    "\n",
    "\n",
    "shown_images = np.array([[1., 1.]])  # just something big\n",
    "for i in range(X.shape[0]):\n",
    "    dist = np.sum((X[i] - shown_images) ** 2, 1)\n",
    "    if np.min(dist) < 4e-3:\n",
    "        # drop points that (pretty much) overlap\n",
    "        continue\n",
    "    shown_images = np.r_[shown_images, [X[i]]]\n",
    "    imagebox = offsetbox.AnnotationBbox(\n",
    "        offsetbox.OffsetImage(digits.images[i], cmap=plt.cm.gray_r),\n",
    "        X[i])\n",
    "    ax.add_artist(imagebox)\n",
    "    \n",
    "plt.xticks([]), plt.yticks([])\n",
    "plt.title(\"t-SNE embedding\")\n",
    "\n"
   ]
  },
  {
   "cell_type": "markdown",
   "id": "democratic-plane",
   "metadata": {},
   "source": [
    "Here's a t-SNE project I did a while back.. it's a visualization of mutual fund allocations.  The trick here is that I also add the element of *time* to the visualization. The embedding adjusts itself to new data that arrive at different time points, making it easy to spot changes."
   ]
  },
  {
   "cell_type": "code",
   "execution_count": 23,
   "id": "sized-brook",
   "metadata": {},
   "outputs": [
    {
     "data": {
      "text/html": [
       "\n",
       "        <iframe\n",
       "            width=\"560\"\n",
       "            height=\"315\"\n",
       "            src=\"https://www.youtube.com/embed/n-MLfNgfKJU?rel=0&amp;controls=0&amp;showinfo=0\"\n",
       "            frameborder=\"0\"\n",
       "            allowfullscreen\n",
       "        ></iframe>\n",
       "        "
      ],
      "text/plain": [
       "<IPython.lib.display.IFrame at 0x7fd9ce84b820>"
      ]
     },
     "execution_count": 23,
     "metadata": {},
     "output_type": "execute_result"
    }
   ],
   "source": [
    "from IPython.display import IFrame\n",
    "\n",
    "# Youtube\n",
    "IFrame('https://www.youtube.com/embed/n-MLfNgfKJU?rel=0&amp;controls=0&amp;showinfo=0', 560, 315)\n"
   ]
  },
  {
   "cell_type": "code",
   "execution_count": null,
   "id": "minimal-blame",
   "metadata": {},
   "outputs": [],
   "source": []
  }
 ],
 "metadata": {
  "kernelspec": {
   "display_name": "Python 3",
   "language": "python",
   "name": "python3"
  },
  "language_info": {
   "codemirror_mode": {
    "name": "ipython",
    "version": 3
   },
   "file_extension": ".py",
   "mimetype": "text/x-python",
   "name": "python",
   "nbconvert_exporter": "python",
   "pygments_lexer": "ipython3",
   "version": "3.8.8"
  }
 },
 "nbformat": 4,
 "nbformat_minor": 5
}
