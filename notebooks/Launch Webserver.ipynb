{
 "cells": [
  {
   "cell_type": "markdown",
   "id": "royal-image",
   "metadata": {},
   "source": [
    "# Launching Webservers\n",
    "Webservers are useful platforms for deploying models.  Here we'll show some simple config for a webserver called \"flask\""
   ]
  },
  {
   "cell_type": "code",
   "execution_count": 6,
   "id": "coupled-accreditation",
   "metadata": {
    "scrolled": true
   },
   "outputs": [
    {
     "name": "stdout",
     "output_type": "stream",
     "text": [
      "from flask import Flask\r\n",
      "\r\n",
      "app = Flask(__name__)\r\n",
      "\r\n",
      "@app.route('/')\r\n",
      "def index():\r\n",
      "    return 'HELLO WORLD'\r\n",
      "\r\n",
      "if __name__ == \"__main__\":\r\n",
      "    app.run()\r\n"
     ]
    }
   ],
   "source": [
    "! cat hello_world.py"
   ]
  },
  {
   "cell_type": "markdown",
   "id": "representative-philosophy",
   "metadata": {},
   "source": [
    "Flask apps use the `@app.route` decorator to designate a handler for a path.  In this case, we're defining one for the root, or `/` path."
   ]
  },
  {
   "cell_type": "code",
   "execution_count": 8,
   "id": "instructional-pulse",
   "metadata": {},
   "outputs": [
    {
     "name": "stdout",
     "output_type": "stream",
     "text": [
      " * Serving Flask app \"hello_world.py\"\n",
      " * Environment: production\n",
      "\u001b[31m   WARNING: This is a development server. Do not use it in a production deployment.\u001b[0m\n",
      "\u001b[2m   Use a production WSGI server instead.\u001b[0m\n",
      " * Debug mode: off\n",
      " * Running on http://127.0.0.1:5000/ (Press CTRL+C to quit)\n",
      "127.0.0.1 - - [03/Mar/2021 20:30:03] \"\u001b[37mGET / HTTP/1.1\u001b[0m\" 200 -\n",
      "127.0.0.1 - - [03/Mar/2021 20:30:30] \"\u001b[37mGET / HTTP/1.1\u001b[0m\" 200 -\n",
      "127.0.0.1 - - [03/Mar/2021 20:30:38] \"\u001b[33mGET /foo HTTP/1.1\u001b[0m\" 404 -\n",
      "^C\n"
     ]
    }
   ],
   "source": [
    "! export FLASK_APP=hello_world.py && flask run"
   ]
  },
  {
   "cell_type": "markdown",
   "id": "brazilian-mistake",
   "metadata": {},
   "source": [
    "We can see our serialized pipeline.  There's two good options for serializing sklearn pipelines... \"joblib\" and \"pickle\".  As you can see, there's not much difference in size for this example."
   ]
  },
  {
   "cell_type": "code",
   "execution_count": 9,
   "id": "wrong-sigma",
   "metadata": {},
   "outputs": [
    {
     "name": "stdout",
     "output_type": "stream",
     "text": [
      "   8 -rw-r--r--  1 jdonaldson  staff   1.9K Mar  3 15:51 train_pipe.joblib\r\n",
      "   8 -rw-r--r--  1 jdonaldson  staff   1.8K Mar  3 15:35 train_pipe.pkl\r\n"
     ]
    }
   ],
   "source": [
    "! ls -lsh | grep train_pipe"
   ]
  },
  {
   "cell_type": "markdown",
   "id": "caring-disposal",
   "metadata": {},
   "source": [
    "Here's a slightly more complex one that permits a `POST` method to send larger amounts of data to the webserver.  We'll use this method to:\n",
    "1. Send the input data payload\n",
    "2. Deserialize the data payload into the raw data\n",
    "3. Use the deserialized pipeline to make a new prediction from the raw data\n",
    "4. Serialize the prediction\n",
    "5. Send the serialized prediction back to the reqeuster"
   ]
  },
  {
   "cell_type": "code",
   "execution_count": 10,
   "id": "velvet-michael",
   "metadata": {},
   "outputs": [
    {
     "name": "stdout",
     "output_type": "stream",
     "text": [
      "from flask import Flask, request\r\n",
      "import pandas as pd\r\n",
      "import joblib\r\n",
      "import json\r\n",
      "import pipeline\r\n",
      "from pipeline import *\r\n",
      "\r\n",
      "app = Flask(__name__)\r\n",
      "pipe = joblib.load(\"train_pipe.joblib\")\r\n",
      "\r\n",
      "@app.route('/', methods = ['GET', 'POST'])\r\n",
      "def index():\r\n",
      "    if request.method == \"POST\":\r\n",
      "        dat = pd.read_json(request.form[\"input\"])\r\n",
      "        return json.dumps(pipe.predict(dat).tolist())\r\n",
      "    else:\r\n",
      "        print(\"Remember to use the POST method for this server\")\r\n",
      "\r\n",
      "if __name__ == \"__main__\":\r\n",
      "    app.run()\r\n"
     ]
    }
   ],
   "source": [
    "! cat app.py"
   ]
  },
  {
   "cell_type": "code",
   "execution_count": 11,
   "id": "steady-hello",
   "metadata": {},
   "outputs": [
    {
     "name": "stdout",
     "output_type": "stream",
     "text": [
      " * Serving Flask app \"app\" (lazy loading)\n",
      " * Environment: production\n",
      "\u001b[31m   WARNING: This is a development server. Do not use it in a production deployment.\u001b[0m\n",
      "\u001b[2m   Use a production WSGI server instead.\u001b[0m\n",
      " * Debug mode: off\n",
      " * Running on http://127.0.0.1:5000/ (Press CTRL+C to quit)\n",
      "127.0.0.1 - - [03/Mar/2021 20:43:25] \"\u001b[37mPOST / HTTP/1.1\u001b[0m\" 200 -\n",
      "127.0.0.1 - - [03/Mar/2021 20:45:10] \"\u001b[37mPOST / HTTP/1.1\u001b[0m\" 200 -\n",
      "^C\n"
     ]
    }
   ],
   "source": [
    "! python app.py"
   ]
  },
  {
   "cell_type": "code",
   "execution_count": null,
   "id": "verbal-tragedy",
   "metadata": {},
   "outputs": [],
   "source": []
  }
 ],
 "metadata": {
  "kernelspec": {
   "display_name": "Python 3",
   "language": "python",
   "name": "python3"
  },
  "language_info": {
   "codemirror_mode": {
    "name": "ipython",
    "version": 3
   },
   "file_extension": ".py",
   "mimetype": "text/x-python",
   "name": "python",
   "nbconvert_exporter": "python",
   "pygments_lexer": "ipython3",
   "version": "3.6.12"
  }
 },
 "nbformat": 4,
 "nbformat_minor": 5
}
