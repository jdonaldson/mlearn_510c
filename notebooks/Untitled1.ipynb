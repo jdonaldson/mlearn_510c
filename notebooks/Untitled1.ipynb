{
 "cells": [
  {
   "cell_type": "code",
   "execution_count": 1,
   "id": "pacific-riverside",
   "metadata": {},
   "outputs": [
    {
     "name": "stdout",
     "output_type": "stream",
     "text": [
      "from flask import Flask\r\n",
      "\r\n",
      "app = Flask(__name__)\r\n",
      "\r\n",
      "@app.route('/')\r\n",
      "def index():\r\n",
      "    return 'HELLO WORLD'\r\n"
     ]
    }
   ],
   "source": [
    "! cat hello_world.py"
   ]
  },
  {
   "cell_type": "code",
   "execution_count": 2,
   "id": "aggregate-minority",
   "metadata": {},
   "outputs": [],
   "source": [
    "# ! export FLASK_APP=hello_world.py && flask run"
   ]
  },
  {
   "cell_type": "code",
   "execution_count": 3,
   "id": "innovative-employment",
   "metadata": {},
   "outputs": [
    {
     "name": "stdout",
     "output_type": "stream",
     "text": [
      "from flask import Flask, request\r\n",
      "\r\n",
      "app = Flask(__name__)\r\n",
      "\r\n",
      "@app.route('/')\r\n",
      "def index():\r\n",
      "    return 'HELLO WORLD'\r\n",
      "\r\n",
      "@app.route('/prediction_echo')\r\n",
      "def prediction_echo():\r\n",
      "    print(request.form['input'])\r\n",
      "\r\n"
     ]
    }
   ],
   "source": [
    "! cat app.py"
   ]
  },
  {
   "cell_type": "code",
   "execution_count": null,
   "id": "trained-screen",
   "metadata": {},
   "outputs": [
    {
     "name": "stdout",
     "output_type": "stream",
     "text": [
      " * Environment: production\r\n",
      "\u001b[31m   WARNING: This is a development server. Do not use it in a production deployment.\u001b[0m\r\n",
      "\u001b[2m   Use a production WSGI server instead.\u001b[0m\r\n",
      " * Debug mode: off\r\n",
      " * Running on http://127.0.0.1:5000/ (Press CTRL+C to quit)\r\n"
     ]
    }
   ],
   "source": [
    "! flask run"
   ]
  },
  {
   "cell_type": "code",
   "execution_count": null,
   "id": "strange-serbia",
   "metadata": {},
   "outputs": [],
   "source": []
  }
 ],
 "metadata": {
  "kernelspec": {
   "display_name": "Python 3",
   "language": "python",
   "name": "python3"
  },
  "language_info": {
   "codemirror_mode": {
    "name": "ipython",
    "version": 3
   },
   "file_extension": ".py",
   "mimetype": "text/x-python",
   "name": "python",
   "nbconvert_exporter": "python",
   "pygments_lexer": "ipython3",
   "version": "3.6.12"
  }
 },
 "nbformat": 4,
 "nbformat_minor": 5
}
